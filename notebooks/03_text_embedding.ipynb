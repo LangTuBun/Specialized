{
 "cells": [
  {
   "cell_type": "markdown",
   "id": "96c035c9",
   "metadata": {},
   "source": [
    "# 03. Text Embedding\n",
    "\n",
    "This notebook focuses on creating text embeddings for our dataset. We will:\n",
    "- Load the data prepared in the previous notebooks (which includes image embeddings).\n",
    "- Prepare separate text fields for reviews and product metadata.\n",
    "- Use a `SentenceTransformer` model to generate embeddings for both text fields.\n",
    "- Fuse the review and metadata embeddings into a single text embedding.\n",
    "- Save the final DataFrame containing both image and text embeddings."
   ]
  },
  {
   "cell_type": "markdown",
   "id": "5e3e62c4",
   "metadata": {},
   "source": [
    "## 1. Setup and Data Loading"
   ]
  },
  {
   "cell_type": "code",
   "execution_count": 1,
   "id": "38eaaedc",
   "metadata": {},
   "outputs": [
    {
     "name": "stdout",
     "output_type": "stream",
     "text": [
      "Loading data from ../reviews_with_img_emb_CDs_and_Vinyl.parquet...\n",
      "Data loaded successfully. Shape: (5000, 23)\n",
      "Data loaded successfully. Shape: (5000, 23)\n"
     ]
    }
   ],
   "source": [
    "import sys\n",
    "import os\n",
    "import pandas as pd\n",
    "import numpy as np\n",
    "\n",
    "# Add project root to path\n",
    "sys.path.append(os.path.dirname(os.path.dirname(os.path.abspath('__file__'))))\n",
    "\n",
    "from src.data_utils import prepare_text_columns\n",
    "from src.embedding_utils import get_text_model, generate_text_embeddings, fuse_embeddings\n",
    "\n",
    "# --- Configuration ---\n",
    "CATEGORY = \"CDs_and_Vinyl\"\n",
    "INPUT_FILE = f\"../reviews_with_img_emb_{CATEGORY}.parquet\"\n",
    "OUTPUT_FILE = f\"../reviews_with_img_text_emb_{CATEGORY}.parquet\"\n",
    "\n",
    "# Load data\n",
    "print(f\"Loading data from {INPUT_FILE}...\")\n",
    "df = pd.read_parquet(INPUT_FILE)\n",
    "print(\"Data loaded successfully. Shape:\", df.shape)"
   ]
  },
  {
   "cell_type": "markdown",
   "id": "673074cd",
   "metadata": {},
   "source": [
    "## 2. Prepare Text Columns\n",
    "\n",
    "We'll create two new columns, `review_text` and `meta_text`, by combining titles and descriptions. This is handled by the `prepare_text_columns` helper function."
   ]
  },
  {
   "cell_type": "code",
   "execution_count": 2,
   "id": "a8bf2a75",
   "metadata": {},
   "outputs": [
    {
     "name": "stdout",
     "output_type": "stream",
     "text": [
      "Review text sample: Great Scott Ok...am I missing something here? Scott Walker is the greatest singer ever. It's that simple. This guy has sung it all from schlock broadway tunes to brooding interpretations of J. Brel and there has never been a bad note. The celebration of that voice has probably obscured the fact that the man is also responsible for some of the most intense self-penned anguish in the recorded history of recorded history. Tilt is a benchmark of total excellence for a genre that doesn't even exist. No one is as deep space profound as Scott Walker and no one has ever come close to the stratas-fear of pain and plight as THIS artist on THIS CD. Drive a nine-inch-nail in your head. Chant that Bowie is far from being the man who fell to earth. Whisper to Frank that Wee Small Hours just got smaller. Radiohead? RadioDEAD.  Julian Cope dubst Scott Walker is an incredible God-like Genius. That is an understatement. Years since Tilt and still waiting. The plea to Scott...&quot;more!&quot;\n",
      "\n",
      "Meta text sample: Tilt ['No Description AvailableNo Track Information Available' 'Media Type:'\n",
      " 'CD' 'Artist:' 'WALKER,SCOTT' 'Title:' 'TILT' 'Street Release Date:'\n",
      " '09/09/1997Domestic' 'Genre:' 'ROCK/POP']\n"
     ]
    }
   ],
   "source": [
    "df = prepare_text_columns(df)\n",
    "\n",
    "print(\"Review text sample:\", df[\"review_text\"].iloc[0])\n",
    "print(\"\\nMeta text sample:\", df[\"meta_text\"].iloc[0])"
   ]
  },
  {
   "cell_type": "markdown",
   "id": "b9eaac24",
   "metadata": {},
   "source": [
    "## 3. Generate Text Embeddings\n",
    "\n",
    "Now, we'll load a pre-trained `SentenceTransformer` model and use it to encode both the review text and the metadata text into high-dimensional vectors."
   ]
  },
  {
   "cell_type": "code",
   "execution_count": 3,
   "id": "1184cf5c",
   "metadata": {},
   "outputs": [
    {
     "name": "stdout",
     "output_type": "stream",
     "text": [
      "Generating review embeddings...\n"
     ]
    },
    {
     "data": {
      "application/vnd.jupyter.widget-view+json": {
       "model_id": "b57bf03c80a14e0abf516d50efa33f54",
       "version_major": 2,
       "version_minor": 0
      },
      "text/plain": [
       "Batches:   0%|          | 0/79 [00:00<?, ?it/s]"
      ]
     },
     "metadata": {},
     "output_type": "display_data"
    },
    {
     "name": "stdout",
     "output_type": "stream",
     "text": [
      "Generating metadata embeddings...\n"
     ]
    },
    {
     "data": {
      "application/vnd.jupyter.widget-view+json": {
       "model_id": "77da5926a37d46c0bc5270062ea170e0",
       "version_major": 2,
       "version_minor": 0
      },
      "text/plain": [
       "Batches:   0%|          | 0/79 [00:00<?, ?it/s]"
      ]
     },
     "metadata": {},
     "output_type": "display_data"
    },
    {
     "name": "stdout",
     "output_type": "stream",
     "text": [
      "review_emb shape: (5000, 384)\n",
      "meta_emb shape: (5000, 384)\n"
     ]
    }
   ],
   "source": [
    "model_text = get_text_model(\"all-MiniLM-L6-v2\")\n",
    "\n",
    "review_corpus = df[\"review_text\"].tolist()\n",
    "meta_corpus = df[\"meta_text\"].tolist()\n",
    "\n",
    "print(\"Generating review embeddings...\")\n",
    "review_emb = generate_text_embeddings(review_corpus, model_text)\n",
    "\n",
    "print(\"Generating metadata embeddings...\")\n",
    "meta_emb = generate_text_embeddings(meta_corpus, model_text)\n",
    "\n",
    "print(\"review_emb shape:\", review_emb.shape)\n",
    "print(\"meta_emb shape:\", meta_emb.shape)"
   ]
  },
  {
   "cell_type": "markdown",
   "id": "f905bca5",
   "metadata": {},
   "source": [
    "## 4. Fuse Embeddings and Save\n",
    "\n",
    "We'll combine the review and metadata embeddings into a single, more representative text embedding. The `alpha` parameter controls the weight given to the review text versus the metadata. Finally, we add the new embeddings to the DataFrame and save it."
   ]
  },
  {
   "cell_type": "code",
   "execution_count": 4,
   "id": "d97b226c",
   "metadata": {},
   "outputs": [
    {
     "name": "stdout",
     "output_type": "stream",
     "text": [
      "✅ Saved final DataFrame with text embeddings to: ../reviews_with_img_text_emb_CDs_and_Vinyl.parquet\n"
     ]
    }
   ],
   "source": [
    "# Fuse review + meta into one text vector\n",
    "alpha = 0.7  # Weight on review text; (1-alpha) on meta\n",
    "text_emb = fuse_embeddings(review_emb, meta_emb, alpha=alpha)\n",
    "\n",
    "# Add embeddings to DataFrame\n",
    "df[\"review_text_emb\"] = list(review_emb)\n",
    "df[\"meta_text_emb\"] = list(meta_emb)\n",
    "df[\"text_emb\"] = list(text_emb.astype(\"float32\"))  # Fused text emb\n",
    "\n",
    "# Save the final DataFrame\n",
    "df.to_parquet(OUTPUT_FILE, index=False)\n",
    "print(f\"✅ Saved final DataFrame with text embeddings to: {OUTPUT_FILE}\")"
   ]
  },
  {
   "cell_type": "markdown",
   "id": "4b0c9c40",
   "metadata": {},
   "source": [
    "## Step 3: Text Embedding\n",
    "This notebook focuses on generating text embeddings from product reviews and metadata. We will use transformer-based models to encode textual information for further analysis.\n",
    "\n",
    "- Load and clean text data\n",
    "- Tokenize and preprocess text\n",
    "- Generate text embeddings\n",
    "- Save and organize embeddings for later use"
   ]
  },
  {
   "cell_type": "markdown",
   "id": "e29a25c2",
   "metadata": {},
   "source": [
    "## Text Embedding with Sentence Transformers\n",
    "Prepare review and meta text, encode with transformer model, fuse embeddings, and save results."
   ]
  },
  {
   "cell_type": "code",
   "execution_count": 6,
   "id": "c6293c80",
   "metadata": {},
   "outputs": [
    {
     "data": {
      "application/vnd.jupyter.widget-view+json": {
       "model_id": "5397fcf0269f46649d35d564f838090d",
       "version_major": 2,
       "version_minor": 0
      },
      "text/plain": [
       "Batches:   0%|          | 0/79 [00:00<?, ?it/s]"
      ]
     },
     "metadata": {},
     "output_type": "display_data"
    },
    {
     "data": {
      "application/vnd.jupyter.widget-view+json": {
       "model_id": "06702388379f4b4e9e87813a39ee46cf",
       "version_major": 2,
       "version_minor": 0
      },
      "text/plain": [
       "Batches:   0%|          | 0/79 [00:00<?, ?it/s]"
      ]
     },
     "metadata": {},
     "output_type": "display_data"
    }
   ],
   "source": [
    "import pandas as pd\n",
    "import numpy as np\n",
    "from sentence_transformers import SentenceTransformer\n",
    "from sklearn.preprocessing import normalize\n",
    "sys.path.append(os.path.dirname(os.path.dirname(os.path.abspath('__file__'))))\n",
    "from src.data_utils import to_text\n",
    "\n",
    "# Prepare review and meta text columns\n",
    "df[\"review_text\"] = (df.get(\"title_x\", \"\").apply(to_text).fillna(\"\") + \" \" + df.get(\"text\", \"\").apply(to_text).fillna(\"\")).str.strip()\n",
    "df[\"meta_text\"] = (df.get(\"title_y\", \"\").apply(to_text).fillna(\"\") + \" \" + df.get(\"description\", \"\").apply(to_text).fillna(\"\")).str.strip()\n",
    "\n",
    "model_text = SentenceTransformer(\"all-MiniLM-L6-v2\")\n",
    "review_corpus = df[\"review_text\"].tolist()\n",
    "meta_corpus   = df[\"meta_text\"].tolist()\n",
    "\n",
    "review_emb = model_text.encode(review_corpus, batch_size=64, show_progress_bar=True, convert_to_numpy=True).astype(\"float32\")\n",
    "meta_emb = model_text.encode(meta_corpus, batch_size=64, show_progress_bar=True, convert_to_numpy=True).astype(\"float32\")\n",
    "\n",
    "alpha = 0.7  # weight on review text; (1-alpha) on meta\n",
    "text_emb = normalize(alpha * review_emb + (1 - alpha) * meta_emb, axis=1)\n",
    "df[\"review_text_emb\"] = list(review_emb)\n",
    "df[\"meta_text_emb\"]   = list(meta_emb)\n",
    "df[\"text_emb\"]        = list(text_emb.astype(\"float32\"))\n",
    "\n",
    "df.to_parquet(f\"reviews_with_img_text_emb_{CATEGORY}.parquet\", index=False)"
   ]
  }
 ],
 "metadata": {
  "kernelspec": {
   "display_name": "Python 3",
   "language": "python",
   "name": "python3"
  },
  "language_info": {
   "codemirror_mode": {
    "name": "ipython",
    "version": 3
   },
   "file_extension": ".py",
   "mimetype": "text/x-python",
   "name": "python",
   "nbconvert_exporter": "python",
   "pygments_lexer": "ipython3",
   "version": "3.11.9"
  }
 },
 "nbformat": 4,
 "nbformat_minor": 5
}
